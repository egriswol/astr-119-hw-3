{
 "cells": [
  {
   "cell_type": "code",
   "execution_count": null,
   "metadata": {
    "collapsed": true
   },
   "outputs": [],
   "source": [
    "%matplotlib inline\n",
    "import matplotlib.pyplot as plt\n",
    "import numpy as np"
   ]
  },
  {
   "cell_type": "code",
   "execution_count": null,
   "metadata": {
    "collapsed": true
   },
   "outputs": [],
   "source": [
    "def function_for_roots(x):\n",
    "    a = 1.01\n",
    "    b = -3.04\n",
    "    c = 2.07\n",
    "    return a*x**2 + b*x + c #get the roots of ax^2 + bx + c"
   ]
  },
  {
   "cell_type": "code",
   "execution_count": null,
   "metadata": {
    "collapsed": true
   },
   "outputs": [],
   "source": [
    "def check_initial_values(f, x_min, x_max, tol):\n",
    "    \n",
    "    #check our initial guesses\n",
    "    y_min = f(x_min)\n",
    "    y_max = f(x_max)\n",
    "    \n",
    "    #check that x_min and x_max contain a zero crossing\n",
    "    if(y_min*y_max>=0.0):\n",
    "        print(\"no zero crossing found in range = \", x_min, x_max)\n",
    "        s = \"f(%f) = %f, f(%f) = %f\" % (x_min,y_min,x_max,y_max)\n",
    "        print (s)\n",
    "        return 0\n",
    "    \n",
    "    #if x_min is a root, then return flag == 1\n",
    "    if (np.fabs(y_min)<tol):\n",
    "        return 1\n",
    "    \n",
    "    #if x_max is a root, then return flag == 2\n",
    "    if (np.fabs(y_max)<tol):\n",
    "        return 2\n",
    "    \n",
    "    #if we reach this point, the bracket is valid, return a 3\n",
    "    return 3\n"
   ]
  },
  {
   "cell_type": "code",
   "execution_count": null,
   "metadata": {},
   "outputs": [],
   "source": [
    "def bisection_root_finding(f, x_min_start, x_max_start, tol):\n",
    "    \n",
    "    x_min = x_min_start\n",
    "    x_max = x_max_start\n",
    "    x_mid = 0.0\n",
    "    \n",
    "    y_min = f(x_min)\n",
    "    y_max = f(x_max)\n",
    "    y_mid = 0.0\n",
    "    \n",
    "    imax = 10000  #set max number of iterations\n",
    "    i = 0.0       #iteration counter\n",
    "    \n",
    "    #check the initial values\n",
    "    flag = check_initial_values(f, x_min, x_max, tol)\n",
    "    if (flag==0):\n",
    "        print(\"Error in bisection_root_finding().\")\n",
    "        raise ValueError('Initial values invalid', x_min, x_max)\n",
    "    elif (flag==1): \n",
    "        #lucky guess\n",
    "        return x_min\n",
    "    elif (flag==2):\n",
    "        #another lucky guess\n",
    "        return x_max\n",
    "    #if we reach here, then we need to conduct the search\n",
    "    #set a flag\n",
    "    flag = 1\n",
    "    \n",
    "    #lets do a while loop\n",
    "    while(flag):\n",
    "        x_mid = 0.5*(x_min + x_max)  #mid point\n",
    "        y_mid = f(x_mid)\n",
    "        \n",
    "        #check if x_mid is a root\n",
    "        if (np.fabs(y_mid)<tol):\n",
    "            flag = 0\n",
    "        else:\n",
    "            #x_mid is not a root\n",
    "            \n",
    "            #if the product of the funtion at the midpoint and at \n",
    "            #one of the endpoints is greater than zero, replace this endpoint\n",
    "            if (f(x_min)*f(x_mid)>0):\n",
    "                #replace x_min with x_mid\n",
    "                x_min = x_mid\n",
    "            else:\n",
    "                #replace x_max with x_mid\n",
    "                x_max = x_mid\n",
    "        \n",
    "        #print the iteration\n",
    "        print(x_min,f(x_min),x_max,f(x_max))\n",
    "        \n",
    "        #count the iteration\n",
    "        i += 1\n",
    "        \n",
    "        #if we exceed the max number of iterations, exit\n",
    "        if (i>=imax):\n",
    "            print(\"Exceeded max number of iterations = \", i)\n",
    "            s  = \"Min bracket f(%f)= %f\" % (x_min,f(x_min))\n",
    "            print(s)\n",
    "            s  = \"Max bracket f(%f)= %f\" % (x_max,f(x_max))\n",
    "            print(s)\n",
    "            s  = \"Mid bracket f(%f)= %f\" % (x_mid,f(x_mid))\n",
    "            print(s)\n",
    "            raise StopIteration('Stopping interations after',i)\n",
    "    #we are done\n",
    "    return x_mid"
   ]
  },
  {
   "cell_type": "code",
   "execution_count": null,
   "metadata": {},
   "outputs": [],
   "source": [
    "x_min1 = 1.75\n",
    "x_max1 = 2.25\n",
    "tolerance = 1.0e-6\n",
    "\n",
    "#print the intial guess\n",
    "print(x_min1,function_for_roots(x_min1))\n",
    "print(x_max1,function_for_roots(x_max1))\n",
    "\n",
    "x_root1 = bisection_root_finding(function_for_roots,x_min1,x_max1,tolerance)\n",
    "y_root1 = function_for_roots(x_root1)\n",
    "\n",
    "s = \"Root found with y(%f) = %f\" % (x_root1,y_root1)\n",
    "print(s)\n",
    "\n",
    "#Root found to be 1.969032 in 18 iterations"
   ]
  },
  {
   "cell_type": "code",
   "execution_count": null,
   "metadata": {},
   "outputs": [],
   "source": [
    "x_min2 = 0.75\n",
    "x_max2 = 1.25\n",
    "tolerance = 1.0e-6\n",
    "\n",
    "#print the intial guess\n",
    "print(x_min2,function_for_roots(x_min2))\n",
    "print(x_max2,function_for_roots(x_max2))\n",
    "\n",
    "x_root2 = bisection_root_finding(function_for_roots,x_min2,x_max2,tolerance)\n",
    "y_root2 = function_for_roots(x_root2)\n",
    "\n",
    "s = \"Root found with y(%f) = %f\" % (x_root2,y_root2)\n",
    "print(s)\n",
    "\n",
    "#Root found to be 1.040871 in 18 iterations"
   ]
  },
  {
   "cell_type": "code",
   "execution_count": null,
   "metadata": {},
   "outputs": [],
   "source": [
    "x = np.linspace(0, 3, 1000)\n",
    "\n",
    "points = (0.75, 1.25, 1.75, 2.25)\n",
    "fpoints = (function_for_roots(0.75), function_for_roots(1.25), function_for_roots(1.75), function_for_roots(2.25))\n",
    "roots = (1.040871, 1.969032)\n",
    "froots = (0, 0)\n",
    "\n",
    "plt.ylim(-0.5, 2.1)\n",
    "plt.xlim(0, 3)\n",
    "\n",
    "y = (1.01 * (x**2)) - (3.04 * x) + 2.07\n",
    "plt.plot(x,y)\n",
    "plt.plot(x)\n",
    "\n",
    "plt.scatter(points, fpoints, color='green')\n",
    "plt.scatter(roots, froots, color='purple')\n",
    "\n",
    "plt.ylabel('y')\n",
    "plt.xlabel('x')\n",
    "\n",
    "plt.show()"
   ]
  }
 ],
 "metadata": {
  "kernelspec": {
   "display_name": "Python 3",
   "language": "python",
   "name": "python3"
  },
  "language_info": {
   "codemirror_mode": {
    "name": "ipython",
    "version": 3
   },
   "file_extension": ".py",
   "mimetype": "text/x-python",
   "name": "python",
   "nbconvert_exporter": "python",
   "pygments_lexer": "ipython3",
   "version": "3.6.3"
  }
 },
 "nbformat": 4,
 "nbformat_minor": 2
}
